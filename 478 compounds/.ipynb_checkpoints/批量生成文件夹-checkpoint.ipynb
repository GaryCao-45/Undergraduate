{
 "cells": [
  {
   "cell_type": "code",
   "execution_count": 4,
   "id": "228eb665",
   "metadata": {},
   "outputs": [],
   "source": [
    "import os\n",
    "results = os.getcwd()+\"\\\\Results\\\\Cluster\"\n",
    "for i in range(11):\n",
    "    result_filepath = results + str(i+1)\n",
    "    os.mkdir(result_filepath)"
   ]
  },
  {
   "cell_type": "code",
   "execution_count": null,
   "id": "b70e7c34",
   "metadata": {},
   "outputs": [],
   "source": []
  }
 ],
 "metadata": {
  "kernelspec": {
   "display_name": "Python [conda env:my-rdkit-env]",
   "language": "python",
   "name": "conda-env-my-rdkit-env-py"
  },
  "language_info": {
   "codemirror_mode": {
    "name": "ipython",
    "version": 3
   },
   "file_extension": ".py",
   "mimetype": "text/x-python",
   "name": "python",
   "nbconvert_exporter": "python",
   "pygments_lexer": "ipython3",
   "version": "3.8.13"
  }
 },
 "nbformat": 4,
 "nbformat_minor": 5
}
