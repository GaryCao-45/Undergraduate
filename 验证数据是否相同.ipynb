{
 "cells": [
  {
   "cell_type": "code",
   "execution_count": 1,
   "id": "c9d74e36",
   "metadata": {},
   "outputs": [
    {
     "name": "stderr",
     "output_type": "stream",
     "text": [
      "C:\\Users\\Mars\\AppData\\Local\\Temp\\ipykernel_10544\\3320424879.py:7: FutureWarning: The frame.append method is deprecated and will be removed from pandas in a future version. Use pandas.concat instead.\n",
      "  data1 = data1.append(pd.DataFrame({ 'Name':[file[:-4]],}),ignore_index=True)\n"
     ]
    },
    {
     "name": "stdout",
     "output_type": "stream",
     "text": [
      "            Name\n",
      "0    100343-63-3\n",
      "1     10338-51-9\n",
      "2    104060-61-9\n",
      "3    104777-67-5\n",
      "4    104901-10-2\n",
      "..           ...\n",
      "483  103451-12-3\n",
      "484    3621-38-3\n",
      "485         M-30\n",
      "486       No.167\n",
      "487    3621-36-1\n",
      "\n",
      "[488 rows x 1 columns]\n"
     ]
    }
   ],
   "source": [
    "import os\n",
    "import pandas as pd\n",
    "data1 = pd.DataFrame(columns=())\n",
    "filePath = 'F:\\\\Paper\\\\Code\\\\DataSet'\n",
    "for i, j, mols in os.walk(filePath):\n",
    "     for file in mols:\n",
    "            data1 = data1.append(pd.DataFrame({ 'Name':[file[:-4]],}),ignore_index=True)\n",
    "\n",
    "     print(data1)"
   ]
  },
  {
   "cell_type": "code",
   "execution_count": 2,
   "id": "0fafce74",
   "metadata": {},
   "outputs": [],
   "source": [
    "name=pd.read_excel('F:\\\\Paper\\\\Code\\\\物质结构式及其信息来源.xlsx', usecols='F:G')"
   ]
  },
  {
   "cell_type": "code",
   "execution_count": 3,
   "id": "61c55f34",
   "metadata": {},
   "outputs": [
    {
     "name": "stdout",
     "output_type": "stream",
     "text": [
      "             CAS号\n",
      "0        487-41-2\n",
      "1        327-97-9\n",
      "2        299-42-3\n",
      "3        479-41-4\n",
      "4      56505-80-7\n",
      "..            ...\n",
      "483  2566977-81-7\n",
      "484        No.237\n",
      "485        No.238\n",
      "486        No.239\n",
      "487        No.240\n",
      "\n",
      "[488 rows x 1 columns]\n"
     ]
    }
   ],
   "source": [
    "name_neo=name.dropna(axis=1, how='all')\n",
    "print(name_neo)"
   ]
  },
  {
   "cell_type": "code",
   "execution_count": 4,
   "id": "8b3b175d",
   "metadata": {},
   "outputs": [],
   "source": [
    "name_neo=name_neo.values"
   ]
  },
  {
   "cell_type": "code",
   "execution_count": 5,
   "id": "c74f4053",
   "metadata": {},
   "outputs": [],
   "source": [
    "data1=data1.values"
   ]
  },
  {
   "cell_type": "code",
   "execution_count": 6,
   "id": "0f18b78f",
   "metadata": {},
   "outputs": [],
   "source": [
    "for i in name_neo:\n",
    "    if i not in data1:\n",
    "        print(i)"
   ]
  },
  {
   "cell_type": "code",
   "execution_count": 7,
   "id": "ddf7c5a3",
   "metadata": {},
   "outputs": [],
   "source": [
    "for i in data1:\n",
    "    if i not in name_neo:\n",
    "        print(i)"
   ]
  },
  {
   "cell_type": "code",
   "execution_count": null,
   "id": "3f28c71c",
   "metadata": {},
   "outputs": [],
   "source": []
  }
 ],
 "metadata": {
  "kernelspec": {
   "display_name": "Python [conda env:my-rdkit-env]",
   "language": "python",
   "name": "conda-env-my-rdkit-env-py"
  },
  "language_info": {
   "codemirror_mode": {
    "name": "ipython",
    "version": 3
   },
   "file_extension": ".py",
   "mimetype": "text/x-python",
   "name": "python",
   "nbconvert_exporter": "python",
   "pygments_lexer": "ipython3",
   "version": "3.8.13"
  }
 },
 "nbformat": 4,
 "nbformat_minor": 5
}
